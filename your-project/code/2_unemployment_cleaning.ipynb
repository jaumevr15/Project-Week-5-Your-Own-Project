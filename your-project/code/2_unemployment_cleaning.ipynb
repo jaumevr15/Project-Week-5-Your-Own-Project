{
 "cells": [
  {
   "cell_type": "markdown",
   "metadata": {},
   "source": [
    "# Unemployment data cleaning\n",
    "\n",
    "We will be using the data from Barcelona [0], El Raval [1], l'Antiga Esquerra de l'Eixample [8], la Nova Esquerra de l'Eixample [9], Sant Antoni [10], Poble Sec [11]"
   ]
  },
  {
   "cell_type": "code",
   "execution_count": 116,
   "metadata": {},
   "outputs": [],
   "source": [
    "# Importing needed libraries\n",
    "import pandas as pd\n",
    "import matplotlib as plt\n",
    "import plotly.graph_objs as go\n",
    "import plotly.express as px\n",
    "import numpy as np"
   ]
  },
  {
   "cell_type": "code",
   "execution_count": 117,
   "metadata": {},
   "outputs": [],
   "source": [
    "unemployment_2019 = pd.read_csv('..//databases/20_unemployment_2019.csv', sep=';',encoding='latin-1')\n",
    "unemployment_2018 = pd.read_csv('..//databases/21_unemployment_2018.csv', sep=';',encoding='latin-1')\n",
    "unemployment_2017 = pd.read_csv('..//databases/22_unemployment_2017.csv', sep=';',encoding='latin-1')"
   ]
  },
  {
   "cell_type": "code",
   "execution_count": 118,
   "metadata": {},
   "outputs": [],
   "source": [
    "unemployment_2019 = unemployment_2019.iloc[[0,1,8,9,10,11]]\n",
    "unemployment_2018 = unemployment_2018.iloc[[0,1,8,9,10,11]]\n",
    "unemployment_2017 = unemployment_2017.iloc[[0,1,8,9,10,11]]"
   ]
  },
  {
   "cell_type": "code",
   "execution_count": 119,
   "metadata": {},
   "outputs": [
    {
     "data": {
      "text/html": [
       "<div>\n",
       "<style scoped>\n",
       "    .dataframe tbody tr th:only-of-type {\n",
       "        vertical-align: middle;\n",
       "    }\n",
       "\n",
       "    .dataframe tbody tr th {\n",
       "        vertical-align: top;\n",
       "    }\n",
       "\n",
       "    .dataframe thead th {\n",
       "        text-align: right;\n",
       "    }\n",
       "</style>\n",
       "<table border=\"1\" class=\"dataframe\">\n",
       "  <thead>\n",
       "    <tr style=\"text-align: right;\">\n",
       "      <th></th>\n",
       "      <th>Barris</th>\n",
       "      <th>Població</th>\n",
       "      <th>1</th>\n",
       "      <th>2</th>\n",
       "      <th>3</th>\n",
       "      <th>4</th>\n",
       "      <th>5</th>\n",
       "      <th>6</th>\n",
       "      <th>7</th>\n",
       "      <th>8</th>\n",
       "      <th>9</th>\n",
       "      <th>10</th>\n",
       "    </tr>\n",
       "  </thead>\n",
       "  <tbody>\n",
       "    <tr>\n",
       "      <th>0</th>\n",
       "      <td>BARCELONA</td>\n",
       "      <td>1.060.350</td>\n",
       "      <td>6,7</td>\n",
       "      <td>6,6</td>\n",
       "      <td>6,7</td>\n",
       "      <td>6,5</td>\n",
       "      <td>6,4</td>\n",
       "      <td>6,2</td>\n",
       "      <td>6,3</td>\n",
       "      <td>6,5</td>\n",
       "      <td>6,4</td>\n",
       "      <td>6,5</td>\n",
       "    </tr>\n",
       "    <tr>\n",
       "      <th>1</th>\n",
       "      <td>1     1. el Raval</td>\n",
       "      <td>35.577</td>\n",
       "      <td>9,3</td>\n",
       "      <td>9,4</td>\n",
       "      <td>9,3</td>\n",
       "      <td>8,9</td>\n",
       "      <td>8,5</td>\n",
       "      <td>8,2</td>\n",
       "      <td>8,3</td>\n",
       "      <td>8,3</td>\n",
       "      <td>8,2</td>\n",
       "      <td>8,4</td>\n",
       "    </tr>\n",
       "    <tr>\n",
       "      <th>8</th>\n",
       "      <td>2     8. l'Antiga Esquerra de l'Eixample</td>\n",
       "      <td>28.563</td>\n",
       "      <td>5,1</td>\n",
       "      <td>5,1</td>\n",
       "      <td>5,0</td>\n",
       "      <td>5,0</td>\n",
       "      <td>4,8</td>\n",
       "      <td>4,6</td>\n",
       "      <td>4,7</td>\n",
       "      <td>4,8</td>\n",
       "      <td>4,7</td>\n",
       "      <td>4,8</td>\n",
       "    </tr>\n",
       "    <tr>\n",
       "      <th>9</th>\n",
       "      <td>2     9. la Nova Esquerra de l'Eixample</td>\n",
       "      <td>38.127</td>\n",
       "      <td>5,6</td>\n",
       "      <td>5,6</td>\n",
       "      <td>5,6</td>\n",
       "      <td>5,4</td>\n",
       "      <td>5,3</td>\n",
       "      <td>5,2</td>\n",
       "      <td>5,2</td>\n",
       "      <td>5,5</td>\n",
       "      <td>5,3</td>\n",
       "      <td>5,4</td>\n",
       "    </tr>\n",
       "    <tr>\n",
       "      <th>10</th>\n",
       "      <td>2     10. Sant Antoni</td>\n",
       "      <td>25.468</td>\n",
       "      <td>6,1</td>\n",
       "      <td>6,1</td>\n",
       "      <td>6,0</td>\n",
       "      <td>5,8</td>\n",
       "      <td>5,8</td>\n",
       "      <td>5,7</td>\n",
       "      <td>5,7</td>\n",
       "      <td>6,0</td>\n",
       "      <td>5,8</td>\n",
       "      <td>5,9</td>\n",
       "    </tr>\n",
       "    <tr>\n",
       "      <th>11</th>\n",
       "      <td>3     11. el Poble Sec - AEI Parc Montjuïc</td>\n",
       "      <td>28.154</td>\n",
       "      <td>7,7</td>\n",
       "      <td>7,7</td>\n",
       "      <td>7,8</td>\n",
       "      <td>7,4</td>\n",
       "      <td>7,3</td>\n",
       "      <td>7,0</td>\n",
       "      <td>7,2</td>\n",
       "      <td>7,2</td>\n",
       "      <td>7,2</td>\n",
       "      <td>7,3</td>\n",
       "    </tr>\n",
       "  </tbody>\n",
       "</table>\n",
       "</div>"
      ],
      "text/plain": [
       "                                          Barris     Població      1      2  \\\n",
       "0                          BARCELONA              1.060.350    6,7    6,6     \n",
       "1                            1     1. el Raval       35.577    9,3    9,4     \n",
       "8     2     8. l'Antiga Esquerra de l'Eixample       28.563    5,1    5,1     \n",
       "9      2     9. la Nova Esquerra de l'Eixample       38.127    5,6    5,6     \n",
       "10                       2     10. Sant Antoni       25.468    6,1    6,1     \n",
       "11  3     11. el Poble Sec - AEI Parc Montjuïc       28.154    7,7    7,7     \n",
       "\n",
       "        3      4      5      6      7      8      9     10  \n",
       "0   6,7    6,5    6,4    6,2    6,3    6,5    6,4    6,5    \n",
       "1   9,3    8,9    8,5    8,2    8,3    8,3    8,2    8,4    \n",
       "8   5,0    5,0    4,8    4,6    4,7    4,8    4,7    4,8    \n",
       "9   5,6    5,4    5,3    5,2    5,2    5,5    5,3    5,4    \n",
       "10  6,0    5,8    5,8    5,7    5,7    6,0    5,8    5,9    \n",
       "11  7,8    7,4    7,3    7,0    7,2    7,2    7,2    7,3    "
      ]
     },
     "execution_count": 119,
     "metadata": {},
     "output_type": "execute_result"
    }
   ],
   "source": [
    "unemployment_2019"
   ]
  },
  {
   "cell_type": "code",
   "execution_count": 120,
   "metadata": {},
   "outputs": [],
   "source": [
    "names = unemployment_2019.Barris.to_list()"
   ]
  },
  {
   "cell_type": "code",
   "execution_count": 121,
   "metadata": {},
   "outputs": [],
   "source": [
    "neighbourhoods = ['Barcelona', 'Raval', \"Antiga_Esq_Eixample\", \"Nova_Esq_Eixample\", 'Sant_Antoni', 'Poble_Sec']"
   ]
  },
  {
   "cell_type": "code",
   "execution_count": 122,
   "metadata": {},
   "outputs": [
    {
     "data": {
      "text/plain": [
       "{'BARCELONA\\xa0\\xa0\\xa0\\xa0\\xa0\\xa0\\xa0\\xa0\\xa0\\xa0\\xa0\\xa0': 'Barcelona',\n",
       " '1\\xa0\\xa0\\xa0\\xa0\\xa01. el Raval\\xa0\\xa0': 'Raval',\n",
       " \"2\\xa0\\xa0\\xa0\\xa0\\xa08. l'Antiga Esquerra de l'Eixample\\xa0\\xa0\": 'Antiga_Esq_Eixample',\n",
       " \"2\\xa0\\xa0\\xa0\\xa0\\xa09. la Nova Esquerra de l'Eixample\\xa0\\xa0\": 'Nova_Esq_Eixample',\n",
       " '2\\xa0\\xa0\\xa0\\xa0\\xa010. Sant Antoni\\xa0\\xa0': 'Sant_Antoni',\n",
       " '3\\xa0\\xa0\\xa0\\xa0\\xa011. el Poble Sec - AEI Parc Montjuïc\\xa0\\xa0': 'Poble_Sec'}"
      ]
     },
     "execution_count": 122,
     "metadata": {},
     "output_type": "execute_result"
    }
   ],
   "source": [
    "barris_dict = {key: value for key,value in zip(names, neighbourhoods)}\n",
    "barris_dict"
   ]
  },
  {
   "cell_type": "code",
   "execution_count": 123,
   "metadata": {},
   "outputs": [],
   "source": [
    "unemployment_2019.replace({'Barris':barris_dict}, inplace=True)\n",
    "unemployment_2018.replace({'Barris':barris_dict}, inplace=True)\n",
    "unemployment_2017.replace({'Barris':barris_dict}, inplace=True)"
   ]
  },
  {
   "cell_type": "code",
   "execution_count": 126,
   "metadata": {},
   "outputs": [],
   "source": [
    "unemployment_2017.drop('Població',axis=1, inplace=True)\n",
    "unemployment_2018.drop('Població',axis=1, inplace=True)\n",
    "unemployment_2019.drop('Població',axis=1, inplace=True)"
   ]
  },
  {
   "cell_type": "code",
   "execution_count": 127,
   "metadata": {},
   "outputs": [],
   "source": [
    "unemployment_2017.columns = ['Barris', '1-17', '2-17', '3-17', '4-17', '5-17', '6-17', '7-17', '8-17', '9-17', '10-17', '11-17','12-17']\n",
    "unemployment_2018.columns = ['Barris', '1-18', '2-18', '3-18', '4-18', '5-18', '6-18', '7-18', '8-18', '9-18', '10-18', '11-18','12-19']\n",
    "unemployment_2019.columns = ['Barris', '1-19', '2-19', '3-19', '4-19', '5-19', '6-19', '7-19', '8-19', '9-19', '10-19']"
   ]
  },
  {
   "cell_type": "markdown",
   "metadata": {},
   "source": [
    "# Merging years"
   ]
  },
  {
   "cell_type": "code",
   "execution_count": 168,
   "metadata": {},
   "outputs": [],
   "source": [
    "unemployment = pd.concat([unemployment_2017,unemployment_2018,unemployment_2019],axis=1)"
   ]
  },
  {
   "cell_type": "code",
   "execution_count": 169,
   "metadata": {},
   "outputs": [],
   "source": [
    "duplicates = np.invert(unemployment.columns.duplicated())"
   ]
  },
  {
   "cell_type": "code",
   "execution_count": 170,
   "metadata": {},
   "outputs": [],
   "source": [
    "unemployment = unemployment.loc[:,duplicates]"
   ]
  },
  {
   "cell_type": "code",
   "execution_count": 171,
   "metadata": {},
   "outputs": [],
   "source": [
    "unemployment.reset_index(inplace=True, drop=True)"
   ]
  },
  {
   "cell_type": "code",
   "execution_count": 172,
   "metadata": {},
   "outputs": [],
   "source": [
    "unemployment = unemployment.transpose(copy=True)"
   ]
  },
  {
   "cell_type": "code",
   "execution_count": 173,
   "metadata": {},
   "outputs": [],
   "source": [
    "unemployment = unemployment.rename(columns=unemployment.iloc[0])"
   ]
  },
  {
   "cell_type": "code",
   "execution_count": 185,
   "metadata": {},
   "outputs": [],
   "source": [
    "unemployment = unemployment.drop(unemployment.index[0],axis=0,inplace=True)"
   ]
  },
  {
   "cell_type": "code",
   "execution_count": 192,
   "metadata": {},
   "outputs": [],
   "source": [
    "unemployment = unemployment.apply(lambda x: x.str.replace(',','.'))"
   ]
  },
  {
   "cell_type": "code",
   "execution_count": 193,
   "metadata": {},
   "outputs": [
    {
     "data": {
      "text/html": [
       "<div>\n",
       "<style scoped>\n",
       "    .dataframe tbody tr th:only-of-type {\n",
       "        vertical-align: middle;\n",
       "    }\n",
       "\n",
       "    .dataframe tbody tr th {\n",
       "        vertical-align: top;\n",
       "    }\n",
       "\n",
       "    .dataframe thead th {\n",
       "        text-align: right;\n",
       "    }\n",
       "</style>\n",
       "<table border=\"1\" class=\"dataframe\">\n",
       "  <thead>\n",
       "    <tr style=\"text-align: right;\">\n",
       "      <th></th>\n",
       "      <th>Barcelona</th>\n",
       "      <th>Raval</th>\n",
       "      <th>Antiga_Esq_Eixample</th>\n",
       "      <th>Nova_Esq_Eixample</th>\n",
       "      <th>Sant_Antoni</th>\n",
       "      <th>Poble_Sec</th>\n",
       "    </tr>\n",
       "  </thead>\n",
       "  <tbody>\n",
       "    <tr>\n",
       "      <th>1-17</th>\n",
       "      <td>7.5</td>\n",
       "      <td>10.0</td>\n",
       "      <td>5.5</td>\n",
       "      <td>6.2</td>\n",
       "      <td>6.8</td>\n",
       "      <td>8.8</td>\n",
       "    </tr>\n",
       "    <tr>\n",
       "      <th>2-17</th>\n",
       "      <td>7.5</td>\n",
       "      <td>9.9</td>\n",
       "      <td>5.5</td>\n",
       "      <td>6.1</td>\n",
       "      <td>6.7</td>\n",
       "      <td>8.7</td>\n",
       "    </tr>\n",
       "    <tr>\n",
       "      <th>3-17</th>\n",
       "      <td>7.5</td>\n",
       "      <td>10.1</td>\n",
       "      <td>5.7</td>\n",
       "      <td>6.1</td>\n",
       "      <td>6.7</td>\n",
       "      <td>8.6</td>\n",
       "    </tr>\n",
       "    <tr>\n",
       "      <th>4-17</th>\n",
       "      <td>7.3</td>\n",
       "      <td>9.6</td>\n",
       "      <td>5.4</td>\n",
       "      <td>6.0</td>\n",
       "      <td>6.5</td>\n",
       "      <td>8.3</td>\n",
       "    </tr>\n",
       "    <tr>\n",
       "      <th>5-17</th>\n",
       "      <td>7.0</td>\n",
       "      <td>9.6</td>\n",
       "      <td>5.2</td>\n",
       "      <td>5.8</td>\n",
       "      <td>6.2</td>\n",
       "      <td>8.0</td>\n",
       "    </tr>\n",
       "    <tr>\n",
       "      <th>6-17</th>\n",
       "      <td>6.8</td>\n",
       "      <td>9.3</td>\n",
       "      <td>5.1</td>\n",
       "      <td>5.6</td>\n",
       "      <td>6.0</td>\n",
       "      <td>7.6</td>\n",
       "    </tr>\n",
       "    <tr>\n",
       "      <th>7-17</th>\n",
       "      <td>6.7</td>\n",
       "      <td>9.0</td>\n",
       "      <td>5.0</td>\n",
       "      <td>5.6</td>\n",
       "      <td>6.0</td>\n",
       "      <td>7.7</td>\n",
       "    </tr>\n",
       "    <tr>\n",
       "      <th>8-17</th>\n",
       "      <td>6.9</td>\n",
       "      <td>8.9</td>\n",
       "      <td>5.2</td>\n",
       "      <td>5.7</td>\n",
       "      <td>6.2</td>\n",
       "      <td>7.8</td>\n",
       "    </tr>\n",
       "    <tr>\n",
       "      <th>9-17</th>\n",
       "      <td>6.8</td>\n",
       "      <td>9.0</td>\n",
       "      <td>5.1</td>\n",
       "      <td>5.7</td>\n",
       "      <td>6.2</td>\n",
       "      <td>7.6</td>\n",
       "    </tr>\n",
       "    <tr>\n",
       "      <th>10-17</th>\n",
       "      <td>6.9</td>\n",
       "      <td>9.3</td>\n",
       "      <td>5.0</td>\n",
       "      <td>5.7</td>\n",
       "      <td>6.3</td>\n",
       "      <td>7.8</td>\n",
       "    </tr>\n",
       "    <tr>\n",
       "      <th>11-17</th>\n",
       "      <td>7.1</td>\n",
       "      <td>9.8</td>\n",
       "      <td>5.2</td>\n",
       "      <td>5.8</td>\n",
       "      <td>6.4</td>\n",
       "      <td>8.1</td>\n",
       "    </tr>\n",
       "    <tr>\n",
       "      <th>12-17</th>\n",
       "      <td>7.0</td>\n",
       "      <td>9.7</td>\n",
       "      <td>5.1</td>\n",
       "      <td>5.7</td>\n",
       "      <td>6.3</td>\n",
       "      <td>8.1</td>\n",
       "    </tr>\n",
       "    <tr>\n",
       "      <th>1-18</th>\n",
       "      <td>7.1</td>\n",
       "      <td>9.8</td>\n",
       "      <td>5.3</td>\n",
       "      <td>5.8</td>\n",
       "      <td>6.4</td>\n",
       "      <td>8.3</td>\n",
       "    </tr>\n",
       "    <tr>\n",
       "      <th>2-18</th>\n",
       "      <td>7.0</td>\n",
       "      <td>9.6</td>\n",
       "      <td>5.2</td>\n",
       "      <td>5.7</td>\n",
       "      <td>6.3</td>\n",
       "      <td>8.2</td>\n",
       "    </tr>\n",
       "    <tr>\n",
       "      <th>3-18</th>\n",
       "      <td>7.0</td>\n",
       "      <td>9.6</td>\n",
       "      <td>5.2</td>\n",
       "      <td>5.7</td>\n",
       "      <td>6.3</td>\n",
       "      <td>8.2</td>\n",
       "    </tr>\n",
       "    <tr>\n",
       "      <th>4-18</th>\n",
       "      <td>6.8</td>\n",
       "      <td>9.3</td>\n",
       "      <td>5.0</td>\n",
       "      <td>5.5</td>\n",
       "      <td>6.0</td>\n",
       "      <td>7.9</td>\n",
       "    </tr>\n",
       "    <tr>\n",
       "      <th>5-18</th>\n",
       "      <td>6.6</td>\n",
       "      <td>8.8</td>\n",
       "      <td>4.8</td>\n",
       "      <td>5.4</td>\n",
       "      <td>5.8</td>\n",
       "      <td>7.6</td>\n",
       "    </tr>\n",
       "    <tr>\n",
       "      <th>6-18</th>\n",
       "      <td>6.4</td>\n",
       "      <td>8.6</td>\n",
       "      <td>4.7</td>\n",
       "      <td>5.2</td>\n",
       "      <td>5.7</td>\n",
       "      <td>7.4</td>\n",
       "    </tr>\n",
       "    <tr>\n",
       "      <th>7-18</th>\n",
       "      <td>6.4</td>\n",
       "      <td>8.6</td>\n",
       "      <td>4.7</td>\n",
       "      <td>5.2</td>\n",
       "      <td>5.7</td>\n",
       "      <td>7.4</td>\n",
       "    </tr>\n",
       "    <tr>\n",
       "      <th>8-18</th>\n",
       "      <td>6.6</td>\n",
       "      <td>8.5</td>\n",
       "      <td>5.0</td>\n",
       "      <td>5.5</td>\n",
       "      <td>6.0</td>\n",
       "      <td>7.5</td>\n",
       "    </tr>\n",
       "    <tr>\n",
       "      <th>9-18</th>\n",
       "      <td>6.5</td>\n",
       "      <td>8.7</td>\n",
       "      <td>5.0</td>\n",
       "      <td>5.3</td>\n",
       "      <td>5.8</td>\n",
       "      <td>7.4</td>\n",
       "    </tr>\n",
       "    <tr>\n",
       "      <th>10-18</th>\n",
       "      <td>6.6</td>\n",
       "      <td>9.0</td>\n",
       "      <td>5.0</td>\n",
       "      <td>5.3</td>\n",
       "      <td>5.8</td>\n",
       "      <td>7.5</td>\n",
       "    </tr>\n",
       "    <tr>\n",
       "      <th>11-18</th>\n",
       "      <td>6.6</td>\n",
       "      <td>9.3</td>\n",
       "      <td>5.0</td>\n",
       "      <td>5.4</td>\n",
       "      <td>5.8</td>\n",
       "      <td>7.5</td>\n",
       "    </tr>\n",
       "    <tr>\n",
       "      <th>12-19</th>\n",
       "      <td>6.5</td>\n",
       "      <td>9.3</td>\n",
       "      <td>5.0</td>\n",
       "      <td>5.4</td>\n",
       "      <td>5.9</td>\n",
       "      <td>7.5</td>\n",
       "    </tr>\n",
       "    <tr>\n",
       "      <th>1-19</th>\n",
       "      <td>6.7</td>\n",
       "      <td>9.3</td>\n",
       "      <td>5.1</td>\n",
       "      <td>5.6</td>\n",
       "      <td>6.1</td>\n",
       "      <td>7.7</td>\n",
       "    </tr>\n",
       "    <tr>\n",
       "      <th>2-19</th>\n",
       "      <td>6.6</td>\n",
       "      <td>9.4</td>\n",
       "      <td>5.1</td>\n",
       "      <td>5.6</td>\n",
       "      <td>6.1</td>\n",
       "      <td>7.7</td>\n",
       "    </tr>\n",
       "    <tr>\n",
       "      <th>3-19</th>\n",
       "      <td>6.7</td>\n",
       "      <td>9.3</td>\n",
       "      <td>5.0</td>\n",
       "      <td>5.6</td>\n",
       "      <td>6.0</td>\n",
       "      <td>7.8</td>\n",
       "    </tr>\n",
       "    <tr>\n",
       "      <th>4-19</th>\n",
       "      <td>6.5</td>\n",
       "      <td>8.9</td>\n",
       "      <td>5.0</td>\n",
       "      <td>5.4</td>\n",
       "      <td>5.8</td>\n",
       "      <td>7.4</td>\n",
       "    </tr>\n",
       "    <tr>\n",
       "      <th>5-19</th>\n",
       "      <td>6.4</td>\n",
       "      <td>8.5</td>\n",
       "      <td>4.8</td>\n",
       "      <td>5.3</td>\n",
       "      <td>5.8</td>\n",
       "      <td>7.3</td>\n",
       "    </tr>\n",
       "    <tr>\n",
       "      <th>6-19</th>\n",
       "      <td>6.2</td>\n",
       "      <td>8.2</td>\n",
       "      <td>4.6</td>\n",
       "      <td>5.2</td>\n",
       "      <td>5.7</td>\n",
       "      <td>7.0</td>\n",
       "    </tr>\n",
       "    <tr>\n",
       "      <th>7-19</th>\n",
       "      <td>6.3</td>\n",
       "      <td>8.3</td>\n",
       "      <td>4.7</td>\n",
       "      <td>5.2</td>\n",
       "      <td>5.7</td>\n",
       "      <td>7.2</td>\n",
       "    </tr>\n",
       "    <tr>\n",
       "      <th>8-19</th>\n",
       "      <td>6.5</td>\n",
       "      <td>8.3</td>\n",
       "      <td>4.8</td>\n",
       "      <td>5.5</td>\n",
       "      <td>6.0</td>\n",
       "      <td>7.2</td>\n",
       "    </tr>\n",
       "    <tr>\n",
       "      <th>9-19</th>\n",
       "      <td>6.4</td>\n",
       "      <td>8.2</td>\n",
       "      <td>4.7</td>\n",
       "      <td>5.3</td>\n",
       "      <td>5.8</td>\n",
       "      <td>7.2</td>\n",
       "    </tr>\n",
       "    <tr>\n",
       "      <th>10-19</th>\n",
       "      <td>6.5</td>\n",
       "      <td>8.4</td>\n",
       "      <td>4.8</td>\n",
       "      <td>5.4</td>\n",
       "      <td>5.9</td>\n",
       "      <td>7.3</td>\n",
       "    </tr>\n",
       "  </tbody>\n",
       "</table>\n",
       "</div>"
      ],
      "text/plain": [
       "      Barcelona   Raval Antiga_Esq_Eixample Nova_Esq_Eixample Sant_Antoni  \\\n",
       "1-17      7.5    10.0                 5.5               6.2         6.8     \n",
       "2-17      7.5     9.9                 5.5               6.1         6.7     \n",
       "3-17      7.5    10.1                 5.7               6.1         6.7     \n",
       "4-17      7.3     9.6                 5.4               6.0         6.5     \n",
       "5-17      7.0     9.6                 5.2               5.8         6.2     \n",
       "6-17      6.8     9.3                 5.1               5.6         6.0     \n",
       "7-17      6.7     9.0                 5.0               5.6         6.0     \n",
       "8-17      6.9     8.9                 5.2               5.7         6.2     \n",
       "9-17      6.8     9.0                 5.1               5.7         6.2     \n",
       "10-17     6.9     9.3                 5.0               5.7         6.3     \n",
       "11-17     7.1     9.8                 5.2               5.8         6.4     \n",
       "12-17     7.0     9.7                 5.1               5.7         6.3     \n",
       "1-18      7.1     9.8                 5.3               5.8         6.4     \n",
       "2-18      7.0     9.6                 5.2               5.7         6.3     \n",
       "3-18      7.0     9.6                 5.2               5.7         6.3     \n",
       "4-18      6.8     9.3                 5.0               5.5         6.0     \n",
       "5-18      6.6     8.8                 4.8               5.4         5.8     \n",
       "6-18      6.4     8.6                 4.7               5.2         5.7     \n",
       "7-18      6.4     8.6                 4.7               5.2         5.7     \n",
       "8-18      6.6     8.5                 5.0               5.5         6.0     \n",
       "9-18      6.5     8.7                 5.0               5.3         5.8     \n",
       "10-18     6.6     9.0                 5.0               5.3         5.8     \n",
       "11-18     6.6     9.3                 5.0               5.4         5.8     \n",
       "12-19     6.5     9.3                 5.0               5.4         5.9     \n",
       "1-19      6.7     9.3                 5.1               5.6         6.1     \n",
       "2-19      6.6     9.4                 5.1               5.6         6.1     \n",
       "3-19      6.7     9.3                 5.0               5.6         6.0     \n",
       "4-19      6.5     8.9                 5.0               5.4         5.8     \n",
       "5-19      6.4     8.5                 4.8               5.3         5.8     \n",
       "6-19      6.2     8.2                 4.6               5.2         5.7     \n",
       "7-19      6.3     8.3                 4.7               5.2         5.7     \n",
       "8-19      6.5     8.3                 4.8               5.5         6.0     \n",
       "9-19      6.4     8.2                 4.7               5.3         5.8     \n",
       "10-19     6.5     8.4                 4.8               5.4         5.9     \n",
       "\n",
       "      Poble_Sec  \n",
       "1-17      8.8    \n",
       "2-17      8.7    \n",
       "3-17      8.6    \n",
       "4-17      8.3    \n",
       "5-17      8.0    \n",
       "6-17      7.6    \n",
       "7-17      7.7    \n",
       "8-17      7.8    \n",
       "9-17      7.6    \n",
       "10-17     7.8    \n",
       "11-17     8.1    \n",
       "12-17     8.1    \n",
       "1-18      8.3    \n",
       "2-18      8.2    \n",
       "3-18      8.2    \n",
       "4-18      7.9    \n",
       "5-18      7.6    \n",
       "6-18      7.4    \n",
       "7-18      7.4    \n",
       "8-18      7.5    \n",
       "9-18      7.4    \n",
       "10-18     7.5    \n",
       "11-18     7.5    \n",
       "12-19     7.5    \n",
       "1-19      7.7    \n",
       "2-19      7.7    \n",
       "3-19      7.8    \n",
       "4-19      7.4    \n",
       "5-19      7.3    \n",
       "6-19      7.0    \n",
       "7-19      7.2    \n",
       "8-19      7.2    \n",
       "9-19      7.2    \n",
       "10-19     7.3    "
      ]
     },
     "execution_count": 193,
     "metadata": {},
     "output_type": "execute_result"
    }
   ],
   "source": [
    "unemployment"
   ]
  },
  {
   "cell_type": "code",
   "execution_count": 195,
   "metadata": {},
   "outputs": [
    {
     "data": {
      "application/vnd.plotly.v1+json": {
       "config": {
        "plotlyServerURL": "https://plot.ly"
       },
       "data": [
        {
         "line": {
          "color": "rgb(250,128,114)",
          "width": 8
         },
         "mode": "lines+markers",
         "name": "Barcelona",
         "type": "scatter",
         "x": [
          "1-17",
          "2-17",
          "3-17",
          "4-17",
          "5-17",
          "6-17",
          "7-17",
          "8-17",
          "9-17",
          "10-17",
          "11-17",
          "12-17",
          "1-18",
          "2-18",
          "3-18",
          "4-18",
          "5-18",
          "6-18",
          "7-18",
          "8-18",
          "9-18",
          "10-18",
          "11-18",
          "12-19",
          "1-19",
          "2-19",
          "3-19",
          "4-19",
          "5-19",
          "6-19",
          "7-19",
          "8-19",
          "9-19",
          "10-19"
         ],
         "y": [
          "7.5  ",
          "7.5  ",
          "7.5  ",
          "7.3  ",
          "7.0  ",
          "6.8  ",
          "6.7  ",
          "6.9  ",
          "6.8  ",
          "6.9  ",
          "7.1  ",
          "7.0  ",
          "7.1  ",
          "7.0  ",
          "7.0  ",
          "6.8  ",
          "6.6  ",
          "6.4  ",
          "6.4  ",
          "6.6  ",
          "6.5  ",
          "6.6  ",
          "6.6  ",
          "6.5  ",
          "6.7  ",
          "6.6  ",
          "6.7  ",
          "6.5  ",
          "6.4  ",
          "6.2  ",
          "6.3  ",
          "6.5  ",
          "6.4  ",
          "6.5  "
         ]
        },
        {
         "line": {
          "color": "rgb(0, 0, 0)",
          "width": 6
         },
         "mode": "lines+markers",
         "name": "Sant Antoni",
         "type": "scatter",
         "x": [
          "1-17",
          "2-17",
          "3-17",
          "4-17",
          "5-17",
          "6-17",
          "7-17",
          "8-17",
          "9-17",
          "10-17",
          "11-17",
          "12-17",
          "1-18",
          "2-18",
          "3-18",
          "4-18",
          "5-18",
          "6-18",
          "7-18",
          "8-18",
          "9-18",
          "10-18",
          "11-18",
          "12-19",
          "1-19",
          "2-19",
          "3-19",
          "4-19",
          "5-19",
          "6-19",
          "7-19",
          "8-19",
          "9-19",
          "10-19"
         ],
         "y": [
          "6.8  ",
          "6.7  ",
          "6.7  ",
          "6.5  ",
          "6.2  ",
          "6.0  ",
          "6.0  ",
          "6.2  ",
          "6.2  ",
          "6.3  ",
          "6.4  ",
          "6.3  ",
          "6.4  ",
          "6.3  ",
          "6.3  ",
          "6.0  ",
          "5.8  ",
          "5.7  ",
          "5.7  ",
          "6.0  ",
          "5.8  ",
          "5.8  ",
          "5.8  ",
          "5.9  ",
          "6.1  ",
          "6.1  ",
          "6.0  ",
          "5.8  ",
          "5.8  ",
          "5.7  ",
          "5.7  ",
          "6.0  ",
          "5.8  ",
          "5.9  "
         ]
        },
        {
         "line": {
          "color": "rgb(0,128,0)",
          "width": 4
         },
         "mode": "lines+markers",
         "name": "Raval",
         "type": "scatter",
         "x": [
          "1-17",
          "2-17",
          "3-17",
          "4-17",
          "5-17",
          "6-17",
          "7-17",
          "8-17",
          "9-17",
          "10-17",
          "11-17",
          "12-17",
          "1-18",
          "2-18",
          "3-18",
          "4-18",
          "5-18",
          "6-18",
          "7-18",
          "8-18",
          "9-18",
          "10-18",
          "11-18",
          "12-19",
          "1-19",
          "2-19",
          "3-19",
          "4-19",
          "5-19",
          "6-19",
          "7-19",
          "8-19",
          "9-19",
          "10-19"
         ],
         "y": [
          "10.0  ",
          "9.9  ",
          "10.1  ",
          "9.6  ",
          "9.6  ",
          "9.3  ",
          "9.0  ",
          "8.9  ",
          "9.0  ",
          "9.3  ",
          "9.8  ",
          "9.7  ",
          "9.8  ",
          "9.6  ",
          "9.6  ",
          "9.3  ",
          "8.8  ",
          "8.6  ",
          "8.6  ",
          "8.5  ",
          "8.7  ",
          "9.0  ",
          "9.3  ",
          "9.3  ",
          "9.3  ",
          "9.4  ",
          "9.3  ",
          "8.9  ",
          "8.5  ",
          "8.2  ",
          "8.3  ",
          "8.3  ",
          "8.2  ",
          "8.4  "
         ]
        },
        {
         "line": {
          "color": "rgb(128,0,0)",
          "width": 4
         },
         "mode": "lines+markers",
         "name": "Antiga Esquerra de l'Eixample",
         "type": "scatter",
         "x": [
          "1-17",
          "2-17",
          "3-17",
          "4-17",
          "5-17",
          "6-17",
          "7-17",
          "8-17",
          "9-17",
          "10-17",
          "11-17",
          "12-17",
          "1-18",
          "2-18",
          "3-18",
          "4-18",
          "5-18",
          "6-18",
          "7-18",
          "8-18",
          "9-18",
          "10-18",
          "11-18",
          "12-19",
          "1-19",
          "2-19",
          "3-19",
          "4-19",
          "5-19",
          "6-19",
          "7-19",
          "8-19",
          "9-19",
          "10-19"
         ],
         "y": [
          "5.5  ",
          "5.5  ",
          "5.7  ",
          "5.4  ",
          "5.2  ",
          "5.1  ",
          "5.0  ",
          "5.2  ",
          "5.1  ",
          "5.0  ",
          "5.2  ",
          "5.1  ",
          "5.3  ",
          "5.2  ",
          "5.2  ",
          "5.0  ",
          "4.8  ",
          "4.7  ",
          "4.7  ",
          "5.0  ",
          "5.0  ",
          "5.0  ",
          "5.0  ",
          "5.0  ",
          "5.1  ",
          "5.1  ",
          "5.0  ",
          "5.0  ",
          "4.8  ",
          "4.6  ",
          "4.7  ",
          "4.8  ",
          "4.7  ",
          "4.8  "
         ]
        },
        {
         "line": {
          "color": "rgb(0,0,128)",
          "width": 4
         },
         "mode": "lines+markers",
         "name": "Nova Esquerra de l'Eixample",
         "type": "scatter",
         "x": [
          "1-17",
          "2-17",
          "3-17",
          "4-17",
          "5-17",
          "6-17",
          "7-17",
          "8-17",
          "9-17",
          "10-17",
          "11-17",
          "12-17",
          "1-18",
          "2-18",
          "3-18",
          "4-18",
          "5-18",
          "6-18",
          "7-18",
          "8-18",
          "9-18",
          "10-18",
          "11-18",
          "12-19",
          "1-19",
          "2-19",
          "3-19",
          "4-19",
          "5-19",
          "6-19",
          "7-19",
          "8-19",
          "9-19",
          "10-19"
         ],
         "y": [
          "6.2  ",
          "6.1  ",
          "6.1  ",
          "6.0  ",
          "5.8  ",
          "5.6  ",
          "5.6  ",
          "5.7  ",
          "5.7  ",
          "5.7  ",
          "5.8  ",
          "5.7  ",
          "5.8  ",
          "5.7  ",
          "5.7  ",
          "5.5  ",
          "5.4  ",
          "5.2  ",
          "5.2  ",
          "5.5  ",
          "5.3  ",
          "5.3  ",
          "5.4  ",
          "5.4  ",
          "5.6  ",
          "5.6  ",
          "5.6  ",
          "5.4  ",
          "5.3  ",
          "5.2  ",
          "5.2  ",
          "5.5  ",
          "5.3  ",
          "5.4  "
         ]
        },
        {
         "line": {
          "color": "rgb(65,105,225)",
          "width": 4
         },
         "mode": "lines+markers",
         "name": "Poblesec",
         "type": "scatter",
         "x": [
          "1-17",
          "2-17",
          "3-17",
          "4-17",
          "5-17",
          "6-17",
          "7-17",
          "8-17",
          "9-17",
          "10-17",
          "11-17",
          "12-17",
          "1-18",
          "2-18",
          "3-18",
          "4-18",
          "5-18",
          "6-18",
          "7-18",
          "8-18",
          "9-18",
          "10-18",
          "11-18",
          "12-19",
          "1-19",
          "2-19",
          "3-19",
          "4-19",
          "5-19",
          "6-19",
          "7-19",
          "8-19",
          "9-19",
          "10-19"
         ],
         "y": [
          "8.8  ",
          "8.7  ",
          "8.6  ",
          "8.3  ",
          "8.0  ",
          "7.6  ",
          "7.7  ",
          "7.8  ",
          "7.6  ",
          "7.8  ",
          "8.1  ",
          "8.1  ",
          "8.3  ",
          "8.2  ",
          "8.2  ",
          "7.9  ",
          "7.6  ",
          "7.4  ",
          "7.4  ",
          "7.5  ",
          "7.4  ",
          "7.5  ",
          "7.5  ",
          "7.5  ",
          "7.7  ",
          "7.7  ",
          "7.8  ",
          "7.4  ",
          "7.3  ",
          "7.0  ",
          "7.2  ",
          "7.2  ",
          "7.2  ",
          "7.3  "
         ]
        },
        {
         "mode": "lines",
         "name": "Market Reopening",
         "type": "scatter",
         "x": [
          "5-18",
          "5-18"
         ],
         "y": [
          0,
          12
         ]
        }
       ],
       "layout": {
        "template": {
         "data": {
          "bar": [
           {
            "error_x": {
             "color": "#2a3f5f"
            },
            "error_y": {
             "color": "#2a3f5f"
            },
            "marker": {
             "line": {
              "color": "#E5ECF6",
              "width": 0.5
             }
            },
            "type": "bar"
           }
          ],
          "barpolar": [
           {
            "marker": {
             "line": {
              "color": "#E5ECF6",
              "width": 0.5
             }
            },
            "type": "barpolar"
           }
          ],
          "carpet": [
           {
            "aaxis": {
             "endlinecolor": "#2a3f5f",
             "gridcolor": "white",
             "linecolor": "white",
             "minorgridcolor": "white",
             "startlinecolor": "#2a3f5f"
            },
            "baxis": {
             "endlinecolor": "#2a3f5f",
             "gridcolor": "white",
             "linecolor": "white",
             "minorgridcolor": "white",
             "startlinecolor": "#2a3f5f"
            },
            "type": "carpet"
           }
          ],
          "choropleth": [
           {
            "colorbar": {
             "outlinewidth": 0,
             "ticks": ""
            },
            "type": "choropleth"
           }
          ],
          "contour": [
           {
            "colorbar": {
             "outlinewidth": 0,
             "ticks": ""
            },
            "colorscale": [
             [
              0,
              "#0d0887"
             ],
             [
              0.1111111111111111,
              "#46039f"
             ],
             [
              0.2222222222222222,
              "#7201a8"
             ],
             [
              0.3333333333333333,
              "#9c179e"
             ],
             [
              0.4444444444444444,
              "#bd3786"
             ],
             [
              0.5555555555555556,
              "#d8576b"
             ],
             [
              0.6666666666666666,
              "#ed7953"
             ],
             [
              0.7777777777777778,
              "#fb9f3a"
             ],
             [
              0.8888888888888888,
              "#fdca26"
             ],
             [
              1,
              "#f0f921"
             ]
            ],
            "type": "contour"
           }
          ],
          "contourcarpet": [
           {
            "colorbar": {
             "outlinewidth": 0,
             "ticks": ""
            },
            "type": "contourcarpet"
           }
          ],
          "heatmap": [
           {
            "colorbar": {
             "outlinewidth": 0,
             "ticks": ""
            },
            "colorscale": [
             [
              0,
              "#0d0887"
             ],
             [
              0.1111111111111111,
              "#46039f"
             ],
             [
              0.2222222222222222,
              "#7201a8"
             ],
             [
              0.3333333333333333,
              "#9c179e"
             ],
             [
              0.4444444444444444,
              "#bd3786"
             ],
             [
              0.5555555555555556,
              "#d8576b"
             ],
             [
              0.6666666666666666,
              "#ed7953"
             ],
             [
              0.7777777777777778,
              "#fb9f3a"
             ],
             [
              0.8888888888888888,
              "#fdca26"
             ],
             [
              1,
              "#f0f921"
             ]
            ],
            "type": "heatmap"
           }
          ],
          "heatmapgl": [
           {
            "colorbar": {
             "outlinewidth": 0,
             "ticks": ""
            },
            "colorscale": [
             [
              0,
              "#0d0887"
             ],
             [
              0.1111111111111111,
              "#46039f"
             ],
             [
              0.2222222222222222,
              "#7201a8"
             ],
             [
              0.3333333333333333,
              "#9c179e"
             ],
             [
              0.4444444444444444,
              "#bd3786"
             ],
             [
              0.5555555555555556,
              "#d8576b"
             ],
             [
              0.6666666666666666,
              "#ed7953"
             ],
             [
              0.7777777777777778,
              "#fb9f3a"
             ],
             [
              0.8888888888888888,
              "#fdca26"
             ],
             [
              1,
              "#f0f921"
             ]
            ],
            "type": "heatmapgl"
           }
          ],
          "histogram": [
           {
            "marker": {
             "colorbar": {
              "outlinewidth": 0,
              "ticks": ""
             }
            },
            "type": "histogram"
           }
          ],
          "histogram2d": [
           {
            "colorbar": {
             "outlinewidth": 0,
             "ticks": ""
            },
            "colorscale": [
             [
              0,
              "#0d0887"
             ],
             [
              0.1111111111111111,
              "#46039f"
             ],
             [
              0.2222222222222222,
              "#7201a8"
             ],
             [
              0.3333333333333333,
              "#9c179e"
             ],
             [
              0.4444444444444444,
              "#bd3786"
             ],
             [
              0.5555555555555556,
              "#d8576b"
             ],
             [
              0.6666666666666666,
              "#ed7953"
             ],
             [
              0.7777777777777778,
              "#fb9f3a"
             ],
             [
              0.8888888888888888,
              "#fdca26"
             ],
             [
              1,
              "#f0f921"
             ]
            ],
            "type": "histogram2d"
           }
          ],
          "histogram2dcontour": [
           {
            "colorbar": {
             "outlinewidth": 0,
             "ticks": ""
            },
            "colorscale": [
             [
              0,
              "#0d0887"
             ],
             [
              0.1111111111111111,
              "#46039f"
             ],
             [
              0.2222222222222222,
              "#7201a8"
             ],
             [
              0.3333333333333333,
              "#9c179e"
             ],
             [
              0.4444444444444444,
              "#bd3786"
             ],
             [
              0.5555555555555556,
              "#d8576b"
             ],
             [
              0.6666666666666666,
              "#ed7953"
             ],
             [
              0.7777777777777778,
              "#fb9f3a"
             ],
             [
              0.8888888888888888,
              "#fdca26"
             ],
             [
              1,
              "#f0f921"
             ]
            ],
            "type": "histogram2dcontour"
           }
          ],
          "mesh3d": [
           {
            "colorbar": {
             "outlinewidth": 0,
             "ticks": ""
            },
            "type": "mesh3d"
           }
          ],
          "parcoords": [
           {
            "line": {
             "colorbar": {
              "outlinewidth": 0,
              "ticks": ""
             }
            },
            "type": "parcoords"
           }
          ],
          "pie": [
           {
            "automargin": true,
            "type": "pie"
           }
          ],
          "scatter": [
           {
            "marker": {
             "colorbar": {
              "outlinewidth": 0,
              "ticks": ""
             }
            },
            "type": "scatter"
           }
          ],
          "scatter3d": [
           {
            "line": {
             "colorbar": {
              "outlinewidth": 0,
              "ticks": ""
             }
            },
            "marker": {
             "colorbar": {
              "outlinewidth": 0,
              "ticks": ""
             }
            },
            "type": "scatter3d"
           }
          ],
          "scattercarpet": [
           {
            "marker": {
             "colorbar": {
              "outlinewidth": 0,
              "ticks": ""
             }
            },
            "type": "scattercarpet"
           }
          ],
          "scattergeo": [
           {
            "marker": {
             "colorbar": {
              "outlinewidth": 0,
              "ticks": ""
             }
            },
            "type": "scattergeo"
           }
          ],
          "scattergl": [
           {
            "marker": {
             "colorbar": {
              "outlinewidth": 0,
              "ticks": ""
             }
            },
            "type": "scattergl"
           }
          ],
          "scattermapbox": [
           {
            "marker": {
             "colorbar": {
              "outlinewidth": 0,
              "ticks": ""
             }
            },
            "type": "scattermapbox"
           }
          ],
          "scatterpolar": [
           {
            "marker": {
             "colorbar": {
              "outlinewidth": 0,
              "ticks": ""
             }
            },
            "type": "scatterpolar"
           }
          ],
          "scatterpolargl": [
           {
            "marker": {
             "colorbar": {
              "outlinewidth": 0,
              "ticks": ""
             }
            },
            "type": "scatterpolargl"
           }
          ],
          "scatterternary": [
           {
            "marker": {
             "colorbar": {
              "outlinewidth": 0,
              "ticks": ""
             }
            },
            "type": "scatterternary"
           }
          ],
          "surface": [
           {
            "colorbar": {
             "outlinewidth": 0,
             "ticks": ""
            },
            "colorscale": [
             [
              0,
              "#0d0887"
             ],
             [
              0.1111111111111111,
              "#46039f"
             ],
             [
              0.2222222222222222,
              "#7201a8"
             ],
             [
              0.3333333333333333,
              "#9c179e"
             ],
             [
              0.4444444444444444,
              "#bd3786"
             ],
             [
              0.5555555555555556,
              "#d8576b"
             ],
             [
              0.6666666666666666,
              "#ed7953"
             ],
             [
              0.7777777777777778,
              "#fb9f3a"
             ],
             [
              0.8888888888888888,
              "#fdca26"
             ],
             [
              1,
              "#f0f921"
             ]
            ],
            "type": "surface"
           }
          ],
          "table": [
           {
            "cells": {
             "fill": {
              "color": "#EBF0F8"
             },
             "line": {
              "color": "white"
             }
            },
            "header": {
             "fill": {
              "color": "#C8D4E3"
             },
             "line": {
              "color": "white"
             }
            },
            "type": "table"
           }
          ]
         },
         "layout": {
          "annotationdefaults": {
           "arrowcolor": "#2a3f5f",
           "arrowhead": 0,
           "arrowwidth": 1
          },
          "coloraxis": {
           "colorbar": {
            "outlinewidth": 0,
            "ticks": ""
           }
          },
          "colorscale": {
           "diverging": [
            [
             0,
             "#8e0152"
            ],
            [
             0.1,
             "#c51b7d"
            ],
            [
             0.2,
             "#de77ae"
            ],
            [
             0.3,
             "#f1b6da"
            ],
            [
             0.4,
             "#fde0ef"
            ],
            [
             0.5,
             "#f7f7f7"
            ],
            [
             0.6,
             "#e6f5d0"
            ],
            [
             0.7,
             "#b8e186"
            ],
            [
             0.8,
             "#7fbc41"
            ],
            [
             0.9,
             "#4d9221"
            ],
            [
             1,
             "#276419"
            ]
           ],
           "sequential": [
            [
             0,
             "#0d0887"
            ],
            [
             0.1111111111111111,
             "#46039f"
            ],
            [
             0.2222222222222222,
             "#7201a8"
            ],
            [
             0.3333333333333333,
             "#9c179e"
            ],
            [
             0.4444444444444444,
             "#bd3786"
            ],
            [
             0.5555555555555556,
             "#d8576b"
            ],
            [
             0.6666666666666666,
             "#ed7953"
            ],
            [
             0.7777777777777778,
             "#fb9f3a"
            ],
            [
             0.8888888888888888,
             "#fdca26"
            ],
            [
             1,
             "#f0f921"
            ]
           ],
           "sequentialminus": [
            [
             0,
             "#0d0887"
            ],
            [
             0.1111111111111111,
             "#46039f"
            ],
            [
             0.2222222222222222,
             "#7201a8"
            ],
            [
             0.3333333333333333,
             "#9c179e"
            ],
            [
             0.4444444444444444,
             "#bd3786"
            ],
            [
             0.5555555555555556,
             "#d8576b"
            ],
            [
             0.6666666666666666,
             "#ed7953"
            ],
            [
             0.7777777777777778,
             "#fb9f3a"
            ],
            [
             0.8888888888888888,
             "#fdca26"
            ],
            [
             1,
             "#f0f921"
            ]
           ]
          },
          "colorway": [
           "#636efa",
           "#EF553B",
           "#00cc96",
           "#ab63fa",
           "#FFA15A",
           "#19d3f3",
           "#FF6692",
           "#B6E880",
           "#FF97FF",
           "#FECB52"
          ],
          "font": {
           "color": "#2a3f5f"
          },
          "geo": {
           "bgcolor": "white",
           "lakecolor": "white",
           "landcolor": "#E5ECF6",
           "showlakes": true,
           "showland": true,
           "subunitcolor": "white"
          },
          "hoverlabel": {
           "align": "left"
          },
          "hovermode": "closest",
          "mapbox": {
           "style": "light"
          },
          "paper_bgcolor": "white",
          "plot_bgcolor": "#E5ECF6",
          "polar": {
           "angularaxis": {
            "gridcolor": "white",
            "linecolor": "white",
            "ticks": ""
           },
           "bgcolor": "#E5ECF6",
           "radialaxis": {
            "gridcolor": "white",
            "linecolor": "white",
            "ticks": ""
           }
          },
          "scene": {
           "xaxis": {
            "backgroundcolor": "#E5ECF6",
            "gridcolor": "white",
            "gridwidth": 2,
            "linecolor": "white",
            "showbackground": true,
            "ticks": "",
            "zerolinecolor": "white"
           },
           "yaxis": {
            "backgroundcolor": "#E5ECF6",
            "gridcolor": "white",
            "gridwidth": 2,
            "linecolor": "white",
            "showbackground": true,
            "ticks": "",
            "zerolinecolor": "white"
           },
           "zaxis": {
            "backgroundcolor": "#E5ECF6",
            "gridcolor": "white",
            "gridwidth": 2,
            "linecolor": "white",
            "showbackground": true,
            "ticks": "",
            "zerolinecolor": "white"
           }
          },
          "shapedefaults": {
           "line": {
            "color": "#2a3f5f"
           }
          },
          "ternary": {
           "aaxis": {
            "gridcolor": "white",
            "linecolor": "white",
            "ticks": ""
           },
           "baxis": {
            "gridcolor": "white",
            "linecolor": "white",
            "ticks": ""
           },
           "bgcolor": "#E5ECF6",
           "caxis": {
            "gridcolor": "white",
            "linecolor": "white",
            "ticks": ""
           }
          },
          "title": {
           "x": 0.05
          },
          "xaxis": {
           "automargin": true,
           "gridcolor": "white",
           "linecolor": "white",
           "ticks": "",
           "title": {
            "standoff": 15
           },
           "zerolinecolor": "white",
           "zerolinewidth": 2
          },
          "yaxis": {
           "automargin": true,
           "gridcolor": "white",
           "linecolor": "white",
           "ticks": "",
           "title": {
            "standoff": 15
           },
           "zerolinecolor": "white",
           "zerolinewidth": 2
          }
         }
        },
        "title": {
         "text": "Sant Antoni and surroundings Unemployment Rate"
        },
        "xaxis": {
         "title": {
          "text": "Year"
         }
        },
        "yaxis": {
         "title": {
          "text": "Unemployment Rate"
         }
        }
       }
      },
      "text/html": [
       "<div>\n",
       "        \n",
       "        \n",
       "            <div id=\"5df322c3-1f47-4ea6-b2f5-342f763cbaf5\" class=\"plotly-graph-div\" style=\"height:525px; width:100%;\"></div>\n",
       "            <script type=\"text/javascript\">\n",
       "                require([\"plotly\"], function(Plotly) {\n",
       "                    window.PLOTLYENV=window.PLOTLYENV || {};\n",
       "                    \n",
       "                if (document.getElementById(\"5df322c3-1f47-4ea6-b2f5-342f763cbaf5\")) {\n",
       "                    Plotly.newPlot(\n",
       "                        '5df322c3-1f47-4ea6-b2f5-342f763cbaf5',\n",
       "                        [{\"line\": {\"color\": \"rgb(250,128,114)\", \"width\": 8}, \"mode\": \"lines+markers\", \"name\": \"Barcelona\", \"type\": \"scatter\", \"x\": [\"1-17\", \"2-17\", \"3-17\", \"4-17\", \"5-17\", \"6-17\", \"7-17\", \"8-17\", \"9-17\", \"10-17\", \"11-17\", \"12-17\", \"1-18\", \"2-18\", \"3-18\", \"4-18\", \"5-18\", \"6-18\", \"7-18\", \"8-18\", \"9-18\", \"10-18\", \"11-18\", \"12-19\", \"1-19\", \"2-19\", \"3-19\", \"4-19\", \"5-19\", \"6-19\", \"7-19\", \"8-19\", \"9-19\", \"10-19\"], \"y\": [\"7.5\\u00a0\\u00a0\", \"7.5\\u00a0\\u00a0\", \"7.5\\u00a0\\u00a0\", \"7.3\\u00a0\\u00a0\", \"7.0\\u00a0\\u00a0\", \"6.8\\u00a0\\u00a0\", \"6.7\\u00a0\\u00a0\", \"6.9\\u00a0\\u00a0\", \"6.8\\u00a0\\u00a0\", \"6.9\\u00a0\\u00a0\", \"7.1\\u00a0\\u00a0\", \"7.0\\u00a0\\u00a0\", \"7.1\\u00a0\\u00a0\", \"7.0\\u00a0\\u00a0\", \"7.0\\u00a0\\u00a0\", \"6.8\\u00a0\\u00a0\", \"6.6\\u00a0\\u00a0\", \"6.4\\u00a0\\u00a0\", \"6.4\\u00a0\\u00a0\", \"6.6\\u00a0\\u00a0\", \"6.5\\u00a0\\u00a0\", \"6.6\\u00a0\\u00a0\", \"6.6\\u00a0\\u00a0\", \"6.5\\u00a0\\u00a0\", \"6.7\\u00a0\\u00a0\", \"6.6\\u00a0\\u00a0\", \"6.7\\u00a0\\u00a0\", \"6.5\\u00a0\\u00a0\", \"6.4\\u00a0\\u00a0\", \"6.2\\u00a0\\u00a0\", \"6.3\\u00a0\\u00a0\", \"6.5\\u00a0\\u00a0\", \"6.4\\u00a0\\u00a0\", \"6.5\\u00a0\\u00a0\"]}, {\"line\": {\"color\": \"rgb(0, 0, 0)\", \"width\": 6}, \"mode\": \"lines+markers\", \"name\": \"Sant Antoni\", \"type\": \"scatter\", \"x\": [\"1-17\", \"2-17\", \"3-17\", \"4-17\", \"5-17\", \"6-17\", \"7-17\", \"8-17\", \"9-17\", \"10-17\", \"11-17\", \"12-17\", \"1-18\", \"2-18\", \"3-18\", \"4-18\", \"5-18\", \"6-18\", \"7-18\", \"8-18\", \"9-18\", \"10-18\", \"11-18\", \"12-19\", \"1-19\", \"2-19\", \"3-19\", \"4-19\", \"5-19\", \"6-19\", \"7-19\", \"8-19\", \"9-19\", \"10-19\"], \"y\": [\"6.8\\u00a0\\u00a0\", \"6.7\\u00a0\\u00a0\", \"6.7\\u00a0\\u00a0\", \"6.5\\u00a0\\u00a0\", \"6.2\\u00a0\\u00a0\", \"6.0\\u00a0\\u00a0\", \"6.0\\u00a0\\u00a0\", \"6.2\\u00a0\\u00a0\", \"6.2\\u00a0\\u00a0\", \"6.3\\u00a0\\u00a0\", \"6.4\\u00a0\\u00a0\", \"6.3\\u00a0\\u00a0\", \"6.4\\u00a0\\u00a0\", \"6.3\\u00a0\\u00a0\", \"6.3\\u00a0\\u00a0\", \"6.0\\u00a0\\u00a0\", \"5.8\\u00a0\\u00a0\", \"5.7\\u00a0\\u00a0\", \"5.7\\u00a0\\u00a0\", \"6.0\\u00a0\\u00a0\", \"5.8\\u00a0\\u00a0\", \"5.8\\u00a0\\u00a0\", \"5.8\\u00a0\\u00a0\", \"5.9\\u00a0\\u00a0\", \"6.1\\u00a0\\u00a0\", \"6.1\\u00a0\\u00a0\", \"6.0\\u00a0\\u00a0\", \"5.8\\u00a0\\u00a0\", \"5.8\\u00a0\\u00a0\", \"5.7\\u00a0\\u00a0\", \"5.7\\u00a0\\u00a0\", \"6.0\\u00a0\\u00a0\", \"5.8\\u00a0\\u00a0\", \"5.9\\u00a0\\u00a0\"]}, {\"line\": {\"color\": \"rgb(0,128,0)\", \"width\": 4}, \"mode\": \"lines+markers\", \"name\": \"Raval\", \"type\": \"scatter\", \"x\": [\"1-17\", \"2-17\", \"3-17\", \"4-17\", \"5-17\", \"6-17\", \"7-17\", \"8-17\", \"9-17\", \"10-17\", \"11-17\", \"12-17\", \"1-18\", \"2-18\", \"3-18\", \"4-18\", \"5-18\", \"6-18\", \"7-18\", \"8-18\", \"9-18\", \"10-18\", \"11-18\", \"12-19\", \"1-19\", \"2-19\", \"3-19\", \"4-19\", \"5-19\", \"6-19\", \"7-19\", \"8-19\", \"9-19\", \"10-19\"], \"y\": [\"10.0\\u00a0\\u00a0\", \"9.9\\u00a0\\u00a0\", \"10.1\\u00a0\\u00a0\", \"9.6\\u00a0\\u00a0\", \"9.6\\u00a0\\u00a0\", \"9.3\\u00a0\\u00a0\", \"9.0\\u00a0\\u00a0\", \"8.9\\u00a0\\u00a0\", \"9.0\\u00a0\\u00a0\", \"9.3\\u00a0\\u00a0\", \"9.8\\u00a0\\u00a0\", \"9.7\\u00a0\\u00a0\", \"9.8\\u00a0\\u00a0\", \"9.6\\u00a0\\u00a0\", \"9.6\\u00a0\\u00a0\", \"9.3\\u00a0\\u00a0\", \"8.8\\u00a0\\u00a0\", \"8.6\\u00a0\\u00a0\", \"8.6\\u00a0\\u00a0\", \"8.5\\u00a0\\u00a0\", \"8.7\\u00a0\\u00a0\", \"9.0\\u00a0\\u00a0\", \"9.3\\u00a0\\u00a0\", \"9.3\\u00a0\\u00a0\", \"9.3\\u00a0\\u00a0\", \"9.4\\u00a0\\u00a0\", \"9.3\\u00a0\\u00a0\", \"8.9\\u00a0\\u00a0\", \"8.5\\u00a0\\u00a0\", \"8.2\\u00a0\\u00a0\", \"8.3\\u00a0\\u00a0\", \"8.3\\u00a0\\u00a0\", \"8.2\\u00a0\\u00a0\", \"8.4\\u00a0\\u00a0\"]}, {\"line\": {\"color\": \"rgb(128,0,0)\", \"width\": 4}, \"mode\": \"lines+markers\", \"name\": \"Antiga Esquerra de l'Eixample\", \"type\": \"scatter\", \"x\": [\"1-17\", \"2-17\", \"3-17\", \"4-17\", \"5-17\", \"6-17\", \"7-17\", \"8-17\", \"9-17\", \"10-17\", \"11-17\", \"12-17\", \"1-18\", \"2-18\", \"3-18\", \"4-18\", \"5-18\", \"6-18\", \"7-18\", \"8-18\", \"9-18\", \"10-18\", \"11-18\", \"12-19\", \"1-19\", \"2-19\", \"3-19\", \"4-19\", \"5-19\", \"6-19\", \"7-19\", \"8-19\", \"9-19\", \"10-19\"], \"y\": [\"5.5\\u00a0\\u00a0\", \"5.5\\u00a0\\u00a0\", \"5.7\\u00a0\\u00a0\", \"5.4\\u00a0\\u00a0\", \"5.2\\u00a0\\u00a0\", \"5.1\\u00a0\\u00a0\", \"5.0\\u00a0\\u00a0\", \"5.2\\u00a0\\u00a0\", \"5.1\\u00a0\\u00a0\", \"5.0\\u00a0\\u00a0\", \"5.2\\u00a0\\u00a0\", \"5.1\\u00a0\\u00a0\", \"5.3\\u00a0\\u00a0\", \"5.2\\u00a0\\u00a0\", \"5.2\\u00a0\\u00a0\", \"5.0\\u00a0\\u00a0\", \"4.8\\u00a0\\u00a0\", \"4.7\\u00a0\\u00a0\", \"4.7\\u00a0\\u00a0\", \"5.0\\u00a0\\u00a0\", \"5.0\\u00a0\\u00a0\", \"5.0\\u00a0\\u00a0\", \"5.0\\u00a0\\u00a0\", \"5.0\\u00a0\\u00a0\", \"5.1\\u00a0\\u00a0\", \"5.1\\u00a0\\u00a0\", \"5.0\\u00a0\\u00a0\", \"5.0\\u00a0\\u00a0\", \"4.8\\u00a0\\u00a0\", \"4.6\\u00a0\\u00a0\", \"4.7\\u00a0\\u00a0\", \"4.8\\u00a0\\u00a0\", \"4.7\\u00a0\\u00a0\", \"4.8\\u00a0\\u00a0\"]}, {\"line\": {\"color\": \"rgb(0,0,128)\", \"width\": 4}, \"mode\": \"lines+markers\", \"name\": \"Nova Esquerra de l'Eixample\", \"type\": \"scatter\", \"x\": [\"1-17\", \"2-17\", \"3-17\", \"4-17\", \"5-17\", \"6-17\", \"7-17\", \"8-17\", \"9-17\", \"10-17\", \"11-17\", \"12-17\", \"1-18\", \"2-18\", \"3-18\", \"4-18\", \"5-18\", \"6-18\", \"7-18\", \"8-18\", \"9-18\", \"10-18\", \"11-18\", \"12-19\", \"1-19\", \"2-19\", \"3-19\", \"4-19\", \"5-19\", \"6-19\", \"7-19\", \"8-19\", \"9-19\", \"10-19\"], \"y\": [\"6.2\\u00a0\\u00a0\", \"6.1\\u00a0\\u00a0\", \"6.1\\u00a0\\u00a0\", \"6.0\\u00a0\\u00a0\", \"5.8\\u00a0\\u00a0\", \"5.6\\u00a0\\u00a0\", \"5.6\\u00a0\\u00a0\", \"5.7\\u00a0\\u00a0\", \"5.7\\u00a0\\u00a0\", \"5.7\\u00a0\\u00a0\", \"5.8\\u00a0\\u00a0\", \"5.7\\u00a0\\u00a0\", \"5.8\\u00a0\\u00a0\", \"5.7\\u00a0\\u00a0\", \"5.7\\u00a0\\u00a0\", \"5.5\\u00a0\\u00a0\", \"5.4\\u00a0\\u00a0\", \"5.2\\u00a0\\u00a0\", \"5.2\\u00a0\\u00a0\", \"5.5\\u00a0\\u00a0\", \"5.3\\u00a0\\u00a0\", \"5.3\\u00a0\\u00a0\", \"5.4\\u00a0\\u00a0\", \"5.4\\u00a0\\u00a0\", \"5.6\\u00a0\\u00a0\", \"5.6\\u00a0\\u00a0\", \"5.6\\u00a0\\u00a0\", \"5.4\\u00a0\\u00a0\", \"5.3\\u00a0\\u00a0\", \"5.2\\u00a0\\u00a0\", \"5.2\\u00a0\\u00a0\", \"5.5\\u00a0\\u00a0\", \"5.3\\u00a0\\u00a0\", \"5.4\\u00a0\\u00a0\"]}, {\"line\": {\"color\": \"rgb(65,105,225)\", \"width\": 4}, \"mode\": \"lines+markers\", \"name\": \"Poblesec\", \"type\": \"scatter\", \"x\": [\"1-17\", \"2-17\", \"3-17\", \"4-17\", \"5-17\", \"6-17\", \"7-17\", \"8-17\", \"9-17\", \"10-17\", \"11-17\", \"12-17\", \"1-18\", \"2-18\", \"3-18\", \"4-18\", \"5-18\", \"6-18\", \"7-18\", \"8-18\", \"9-18\", \"10-18\", \"11-18\", \"12-19\", \"1-19\", \"2-19\", \"3-19\", \"4-19\", \"5-19\", \"6-19\", \"7-19\", \"8-19\", \"9-19\", \"10-19\"], \"y\": [\"8.8\\u00a0\\u00a0\", \"8.7\\u00a0\\u00a0\", \"8.6\\u00a0\\u00a0\", \"8.3\\u00a0\\u00a0\", \"8.0\\u00a0\\u00a0\", \"7.6\\u00a0\\u00a0\", \"7.7\\u00a0\\u00a0\", \"7.8\\u00a0\\u00a0\", \"7.6\\u00a0\\u00a0\", \"7.8\\u00a0\\u00a0\", \"8.1\\u00a0\\u00a0\", \"8.1\\u00a0\\u00a0\", \"8.3\\u00a0\\u00a0\", \"8.2\\u00a0\\u00a0\", \"8.2\\u00a0\\u00a0\", \"7.9\\u00a0\\u00a0\", \"7.6\\u00a0\\u00a0\", \"7.4\\u00a0\\u00a0\", \"7.4\\u00a0\\u00a0\", \"7.5\\u00a0\\u00a0\", \"7.4\\u00a0\\u00a0\", \"7.5\\u00a0\\u00a0\", \"7.5\\u00a0\\u00a0\", \"7.5\\u00a0\\u00a0\", \"7.7\\u00a0\\u00a0\", \"7.7\\u00a0\\u00a0\", \"7.8\\u00a0\\u00a0\", \"7.4\\u00a0\\u00a0\", \"7.3\\u00a0\\u00a0\", \"7.0\\u00a0\\u00a0\", \"7.2\\u00a0\\u00a0\", \"7.2\\u00a0\\u00a0\", \"7.2\\u00a0\\u00a0\", \"7.3\\u00a0\\u00a0\"]}, {\"mode\": \"lines\", \"name\": \"Market Reopening\", \"type\": \"scatter\", \"x\": [\"5-18\", \"5-18\"], \"y\": [0, 12]}],\n",
       "                        {\"template\": {\"data\": {\"bar\": [{\"error_x\": {\"color\": \"#2a3f5f\"}, \"error_y\": {\"color\": \"#2a3f5f\"}, \"marker\": {\"line\": {\"color\": \"#E5ECF6\", \"width\": 0.5}}, \"type\": \"bar\"}], \"barpolar\": [{\"marker\": {\"line\": {\"color\": \"#E5ECF6\", \"width\": 0.5}}, \"type\": \"barpolar\"}], \"carpet\": [{\"aaxis\": {\"endlinecolor\": \"#2a3f5f\", \"gridcolor\": \"white\", \"linecolor\": \"white\", \"minorgridcolor\": \"white\", \"startlinecolor\": \"#2a3f5f\"}, \"baxis\": {\"endlinecolor\": \"#2a3f5f\", \"gridcolor\": \"white\", \"linecolor\": \"white\", \"minorgridcolor\": \"white\", \"startlinecolor\": \"#2a3f5f\"}, \"type\": \"carpet\"}], \"choropleth\": [{\"colorbar\": {\"outlinewidth\": 0, \"ticks\": \"\"}, \"type\": \"choropleth\"}], \"contour\": [{\"colorbar\": {\"outlinewidth\": 0, \"ticks\": \"\"}, \"colorscale\": [[0.0, \"#0d0887\"], [0.1111111111111111, \"#46039f\"], [0.2222222222222222, \"#7201a8\"], [0.3333333333333333, \"#9c179e\"], [0.4444444444444444, \"#bd3786\"], [0.5555555555555556, \"#d8576b\"], [0.6666666666666666, \"#ed7953\"], [0.7777777777777778, \"#fb9f3a\"], [0.8888888888888888, \"#fdca26\"], [1.0, \"#f0f921\"]], \"type\": \"contour\"}], \"contourcarpet\": [{\"colorbar\": {\"outlinewidth\": 0, \"ticks\": \"\"}, \"type\": \"contourcarpet\"}], \"heatmap\": [{\"colorbar\": {\"outlinewidth\": 0, \"ticks\": \"\"}, \"colorscale\": [[0.0, \"#0d0887\"], [0.1111111111111111, \"#46039f\"], [0.2222222222222222, \"#7201a8\"], [0.3333333333333333, \"#9c179e\"], [0.4444444444444444, \"#bd3786\"], [0.5555555555555556, \"#d8576b\"], [0.6666666666666666, \"#ed7953\"], [0.7777777777777778, \"#fb9f3a\"], [0.8888888888888888, \"#fdca26\"], [1.0, \"#f0f921\"]], \"type\": \"heatmap\"}], \"heatmapgl\": [{\"colorbar\": {\"outlinewidth\": 0, \"ticks\": \"\"}, \"colorscale\": [[0.0, \"#0d0887\"], [0.1111111111111111, \"#46039f\"], [0.2222222222222222, \"#7201a8\"], [0.3333333333333333, \"#9c179e\"], [0.4444444444444444, \"#bd3786\"], [0.5555555555555556, \"#d8576b\"], [0.6666666666666666, \"#ed7953\"], [0.7777777777777778, \"#fb9f3a\"], [0.8888888888888888, \"#fdca26\"], [1.0, \"#f0f921\"]], \"type\": \"heatmapgl\"}], \"histogram\": [{\"marker\": {\"colorbar\": {\"outlinewidth\": 0, \"ticks\": \"\"}}, \"type\": \"histogram\"}], \"histogram2d\": [{\"colorbar\": {\"outlinewidth\": 0, \"ticks\": \"\"}, \"colorscale\": [[0.0, \"#0d0887\"], [0.1111111111111111, \"#46039f\"], [0.2222222222222222, \"#7201a8\"], [0.3333333333333333, \"#9c179e\"], [0.4444444444444444, \"#bd3786\"], [0.5555555555555556, \"#d8576b\"], [0.6666666666666666, \"#ed7953\"], [0.7777777777777778, \"#fb9f3a\"], [0.8888888888888888, \"#fdca26\"], [1.0, \"#f0f921\"]], \"type\": \"histogram2d\"}], \"histogram2dcontour\": [{\"colorbar\": {\"outlinewidth\": 0, \"ticks\": \"\"}, \"colorscale\": [[0.0, \"#0d0887\"], [0.1111111111111111, \"#46039f\"], [0.2222222222222222, \"#7201a8\"], [0.3333333333333333, \"#9c179e\"], [0.4444444444444444, \"#bd3786\"], [0.5555555555555556, \"#d8576b\"], [0.6666666666666666, \"#ed7953\"], [0.7777777777777778, \"#fb9f3a\"], [0.8888888888888888, \"#fdca26\"], [1.0, \"#f0f921\"]], \"type\": \"histogram2dcontour\"}], \"mesh3d\": [{\"colorbar\": {\"outlinewidth\": 0, \"ticks\": \"\"}, \"type\": \"mesh3d\"}], \"parcoords\": [{\"line\": {\"colorbar\": {\"outlinewidth\": 0, \"ticks\": \"\"}}, \"type\": \"parcoords\"}], \"pie\": [{\"automargin\": true, \"type\": \"pie\"}], \"scatter\": [{\"marker\": {\"colorbar\": {\"outlinewidth\": 0, \"ticks\": \"\"}}, \"type\": \"scatter\"}], \"scatter3d\": [{\"line\": {\"colorbar\": {\"outlinewidth\": 0, \"ticks\": \"\"}}, \"marker\": {\"colorbar\": {\"outlinewidth\": 0, \"ticks\": \"\"}}, \"type\": \"scatter3d\"}], \"scattercarpet\": [{\"marker\": {\"colorbar\": {\"outlinewidth\": 0, \"ticks\": \"\"}}, \"type\": \"scattercarpet\"}], \"scattergeo\": [{\"marker\": {\"colorbar\": {\"outlinewidth\": 0, \"ticks\": \"\"}}, \"type\": \"scattergeo\"}], \"scattergl\": [{\"marker\": {\"colorbar\": {\"outlinewidth\": 0, \"ticks\": \"\"}}, \"type\": \"scattergl\"}], \"scattermapbox\": [{\"marker\": {\"colorbar\": {\"outlinewidth\": 0, \"ticks\": \"\"}}, \"type\": \"scattermapbox\"}], \"scatterpolar\": [{\"marker\": {\"colorbar\": {\"outlinewidth\": 0, \"ticks\": \"\"}}, \"type\": \"scatterpolar\"}], \"scatterpolargl\": [{\"marker\": {\"colorbar\": {\"outlinewidth\": 0, \"ticks\": \"\"}}, \"type\": \"scatterpolargl\"}], \"scatterternary\": [{\"marker\": {\"colorbar\": {\"outlinewidth\": 0, \"ticks\": \"\"}}, \"type\": \"scatterternary\"}], \"surface\": [{\"colorbar\": {\"outlinewidth\": 0, \"ticks\": \"\"}, \"colorscale\": [[0.0, \"#0d0887\"], [0.1111111111111111, \"#46039f\"], [0.2222222222222222, \"#7201a8\"], [0.3333333333333333, \"#9c179e\"], [0.4444444444444444, \"#bd3786\"], [0.5555555555555556, \"#d8576b\"], [0.6666666666666666, \"#ed7953\"], [0.7777777777777778, \"#fb9f3a\"], [0.8888888888888888, \"#fdca26\"], [1.0, \"#f0f921\"]], \"type\": \"surface\"}], \"table\": [{\"cells\": {\"fill\": {\"color\": \"#EBF0F8\"}, \"line\": {\"color\": \"white\"}}, \"header\": {\"fill\": {\"color\": \"#C8D4E3\"}, \"line\": {\"color\": \"white\"}}, \"type\": \"table\"}]}, \"layout\": {\"annotationdefaults\": {\"arrowcolor\": \"#2a3f5f\", \"arrowhead\": 0, \"arrowwidth\": 1}, \"coloraxis\": {\"colorbar\": {\"outlinewidth\": 0, \"ticks\": \"\"}}, \"colorscale\": {\"diverging\": [[0, \"#8e0152\"], [0.1, \"#c51b7d\"], [0.2, \"#de77ae\"], [0.3, \"#f1b6da\"], [0.4, \"#fde0ef\"], [0.5, \"#f7f7f7\"], [0.6, \"#e6f5d0\"], [0.7, \"#b8e186\"], [0.8, \"#7fbc41\"], [0.9, \"#4d9221\"], [1, \"#276419\"]], \"sequential\": [[0.0, \"#0d0887\"], [0.1111111111111111, \"#46039f\"], [0.2222222222222222, \"#7201a8\"], [0.3333333333333333, \"#9c179e\"], [0.4444444444444444, \"#bd3786\"], [0.5555555555555556, \"#d8576b\"], [0.6666666666666666, \"#ed7953\"], [0.7777777777777778, \"#fb9f3a\"], [0.8888888888888888, \"#fdca26\"], [1.0, \"#f0f921\"]], \"sequentialminus\": [[0.0, \"#0d0887\"], [0.1111111111111111, \"#46039f\"], [0.2222222222222222, \"#7201a8\"], [0.3333333333333333, \"#9c179e\"], [0.4444444444444444, \"#bd3786\"], [0.5555555555555556, \"#d8576b\"], [0.6666666666666666, \"#ed7953\"], [0.7777777777777778, \"#fb9f3a\"], [0.8888888888888888, \"#fdca26\"], [1.0, \"#f0f921\"]]}, \"colorway\": [\"#636efa\", \"#EF553B\", \"#00cc96\", \"#ab63fa\", \"#FFA15A\", \"#19d3f3\", \"#FF6692\", \"#B6E880\", \"#FF97FF\", \"#FECB52\"], \"font\": {\"color\": \"#2a3f5f\"}, \"geo\": {\"bgcolor\": \"white\", \"lakecolor\": \"white\", \"landcolor\": \"#E5ECF6\", \"showlakes\": true, \"showland\": true, \"subunitcolor\": \"white\"}, \"hoverlabel\": {\"align\": \"left\"}, \"hovermode\": \"closest\", \"mapbox\": {\"style\": \"light\"}, \"paper_bgcolor\": \"white\", \"plot_bgcolor\": \"#E5ECF6\", \"polar\": {\"angularaxis\": {\"gridcolor\": \"white\", \"linecolor\": \"white\", \"ticks\": \"\"}, \"bgcolor\": \"#E5ECF6\", \"radialaxis\": {\"gridcolor\": \"white\", \"linecolor\": \"white\", \"ticks\": \"\"}}, \"scene\": {\"xaxis\": {\"backgroundcolor\": \"#E5ECF6\", \"gridcolor\": \"white\", \"gridwidth\": 2, \"linecolor\": \"white\", \"showbackground\": true, \"ticks\": \"\", \"zerolinecolor\": \"white\"}, \"yaxis\": {\"backgroundcolor\": \"#E5ECF6\", \"gridcolor\": \"white\", \"gridwidth\": 2, \"linecolor\": \"white\", \"showbackground\": true, \"ticks\": \"\", \"zerolinecolor\": \"white\"}, \"zaxis\": {\"backgroundcolor\": \"#E5ECF6\", \"gridcolor\": \"white\", \"gridwidth\": 2, \"linecolor\": \"white\", \"showbackground\": true, \"ticks\": \"\", \"zerolinecolor\": \"white\"}}, \"shapedefaults\": {\"line\": {\"color\": \"#2a3f5f\"}}, \"ternary\": {\"aaxis\": {\"gridcolor\": \"white\", \"linecolor\": \"white\", \"ticks\": \"\"}, \"baxis\": {\"gridcolor\": \"white\", \"linecolor\": \"white\", \"ticks\": \"\"}, \"bgcolor\": \"#E5ECF6\", \"caxis\": {\"gridcolor\": \"white\", \"linecolor\": \"white\", \"ticks\": \"\"}}, \"title\": {\"x\": 0.05}, \"xaxis\": {\"automargin\": true, \"gridcolor\": \"white\", \"linecolor\": \"white\", \"ticks\": \"\", \"title\": {\"standoff\": 15}, \"zerolinecolor\": \"white\", \"zerolinewidth\": 2}, \"yaxis\": {\"automargin\": true, \"gridcolor\": \"white\", \"linecolor\": \"white\", \"ticks\": \"\", \"title\": {\"standoff\": 15}, \"zerolinecolor\": \"white\", \"zerolinewidth\": 2}}}, \"title\": {\"text\": \"Sant Antoni and surroundings Unemployment Rate\"}, \"xaxis\": {\"title\": {\"text\": \"Year\"}}, \"yaxis\": {\"title\": {\"text\": \"Unemployment Rate\"}}},\n",
       "                        {\"responsive\": true}\n",
       "                    ).then(function(){\n",
       "                            \n",
       "var gd = document.getElementById('5df322c3-1f47-4ea6-b2f5-342f763cbaf5');\n",
       "var x = new MutationObserver(function (mutations, observer) {{\n",
       "        var display = window.getComputedStyle(gd).display;\n",
       "        if (!display || display === 'none') {{\n",
       "            console.log([gd, 'removed!']);\n",
       "            Plotly.purge(gd);\n",
       "            observer.disconnect();\n",
       "        }}\n",
       "}});\n",
       "\n",
       "// Listen for the removal of the full notebook cells\n",
       "var notebookContainer = gd.closest('#notebook-container');\n",
       "if (notebookContainer) {{\n",
       "    x.observe(notebookContainer, {childList: true});\n",
       "}}\n",
       "\n",
       "// Listen for the clearing of the current output cell\n",
       "var outputEl = gd.closest('.output');\n",
       "if (outputEl) {{\n",
       "    x.observe(outputEl, {childList: true});\n",
       "}}\n",
       "\n",
       "                        })\n",
       "                };\n",
       "                });\n",
       "            </script>\n",
       "        </div>"
      ]
     },
     "metadata": {},
     "output_type": "display_data"
    }
   ],
   "source": [
    "fig3 = go.Figure(\n",
    "        data=[\n",
    "             go.Scatter(x=unemployment.index, \n",
    "                       y=unemployment.Barcelona,\n",
    "                       mode='lines+markers',\n",
    "                       name='Barcelona',\n",
    "                       line = dict(\n",
    "                           width = 8,\n",
    "                           color = 'rgb(250,128,114)')),\n",
    "             go.Scatter(x=unemployment.index, \n",
    "                       y=unemployment.Sant_Antoni,\n",
    "                       mode='lines+markers',\n",
    "                       name='Sant Antoni',\n",
    "                       line = dict(\n",
    "                           width = 6,\n",
    "                           color = 'rgb(0, 0, 0)')),\n",
    "            go.Scatter(x=unemployment.index, \n",
    "                       y=unemployment.Raval,\n",
    "                       mode='lines+markers',\n",
    "                       name='Raval',\n",
    "                       line = dict(\n",
    "                           width = 4,\n",
    "                           color = 'rgb(0,128,0)')),\n",
    "            go.Scatter(x=unemployment.index, \n",
    "                       y=unemployment.Antiga_Esq_Eixample,\n",
    "                       mode='lines+markers',\n",
    "                       name=\"Antiga Esquerra de l'Eixample\",\n",
    "                       line = dict(\n",
    "                           width = 4,\n",
    "                           color = 'rgb(128,0,0)')),\n",
    "            go.Scatter(x=unemployment.index, \n",
    "                       y=unemployment.Nova_Esq_Eixample,\n",
    "                       mode='lines+markers',\n",
    "                       name=\"Nova Esquerra de l'Eixample\",\n",
    "                       line = dict(\n",
    "                           width = 4,\n",
    "                           color = 'rgb(0,0,128)')),\n",
    "            go.Scatter(x=unemployment.index, \n",
    "                       y=unemployment.Poble_Sec,\n",
    "                       mode='lines+markers',\n",
    "                       name='Poblesec',\n",
    "                       line = dict(\n",
    "                           width = 4,\n",
    "                           color = 'rgb(65,105,225)'))\n",
    "        ],\n",
    "        layout=go.Layout(\n",
    "            title=dict(text='Sant Antoni and surroundings Unemployment Rate'),\n",
    "            xaxis=dict(title='Year'),\n",
    "            yaxis=dict(title='Unemployment Rate')))\n",
    "\n",
    "fig3.add_trace(go.Scatter(x=['5-18', '5-18'], y=[0,12], mode=\"lines\", name=\"Market Reopening\"))\n",
    "fig3.show()"
   ]
  }
 ],
 "metadata": {
  "kernelspec": {
   "display_name": "Python 3",
   "language": "python",
   "name": "python3"
  },
  "language_info": {
   "codemirror_mode": {
    "name": "ipython",
    "version": 3
   },
   "file_extension": ".py",
   "mimetype": "text/x-python",
   "name": "python",
   "nbconvert_exporter": "python",
   "pygments_lexer": "ipython3",
   "version": "3.7.3"
  }
 },
 "nbformat": 4,
 "nbformat_minor": 2
}
